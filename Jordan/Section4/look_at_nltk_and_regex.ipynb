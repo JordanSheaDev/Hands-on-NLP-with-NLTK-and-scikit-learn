{
 "cells": [
  {
   "cell_type": "code",
   "execution_count": 1,
   "metadata": {},
   "outputs": [],
   "source": [
    "import re\n",
    "import nltk\n",
    "from nltk.corpus import words"
   ]
  },
  {
   "cell_type": "code",
   "execution_count": 2,
   "metadata": {},
   "outputs": [],
   "source": [
    "# # Update nltk\n",
    "# nltk.download('punkt')\n",
    "# nltk.download('wordnet')\n",
    "# nltk.download('stopwords')\n",
    "# nltk.download('words')"
   ]
  },
  {
   "cell_type": "code",
   "execution_count": 3,
   "metadata": {},
   "outputs": [
    {
     "data": {
      "text/plain": [
       "236737"
      ]
     },
     "execution_count": 3,
     "metadata": {},
     "output_type": "execute_result"
    }
   ],
   "source": [
    "english_words = words.raw().split('\\n')\n",
    "len(english_words)"
   ]
  },
  {
   "cell_type": "markdown",
   "metadata": {},
   "source": [
    "### Wildcards `.`"
   ]
  },
  {
   "cell_type": "code",
   "execution_count": 8,
   "metadata": {},
   "outputs": [
    {
     "data": {
      "text/plain": [
       "['tact',\n",
       " 'tactable',\n",
       " 'tactful',\n",
       " 'tactfully',\n",
       " 'tactfulness',\n",
       " 'tactic',\n",
       " 'tactical',\n",
       " 'tactically',\n",
       " 'tactician',\n",
       " 'tactics',\n",
       " 'tactile',\n",
       " 'tactilist',\n",
       " 'tactility',\n",
       " 'tactilogical',\n",
       " 'tactinvariant',\n",
       " 'taction',\n",
       " 'tactite',\n",
       " 'tactive',\n",
       " 'tactless',\n",
       " 'tactlessly']"
      ]
     },
     "execution_count": 8,
     "metadata": {},
     "output_type": "execute_result"
    }
   ],
   "source": [
    "#Must have a letter where . is, but can carry on\n",
    "pattern = re.compile('t..t')\n",
    "[w for w in english_words if pattern.match(w)][:20]"
   ]
  },
  {
   "cell_type": "code",
   "execution_count": 6,
   "metadata": {},
   "outputs": [
    {
     "data": {
      "text/plain": [
       "['tact',\n",
       " 'taft',\n",
       " 'tait',\n",
       " 'takt',\n",
       " 'tart',\n",
       " 'taut',\n",
       " 'teat',\n",
       " 'teet',\n",
       " 'telt',\n",
       " 'tent',\n",
       " 'test',\n",
       " 'text',\n",
       " 'that',\n",
       " 'tift',\n",
       " 'tilt',\n",
       " 'tint',\n",
       " 'toat',\n",
       " 'toft',\n",
       " 'togt',\n",
       " 'toit']"
      ]
     },
     "execution_count": 6,
     "metadata": {},
     "output_type": "execute_result"
    }
   ],
   "source": [
    "# Word ends at the $\n",
    "pattern = re.compile('t..t$')\n",
    "[w for w in english_words if pattern.match(w)][:20]"
   ]
  },
  {
   "cell_type": "markdown",
   "metadata": {},
   "source": [
    "### Optionality `?`"
   ]
  },
  {
   "cell_type": "code",
   "execution_count": 10,
   "metadata": {},
   "outputs": [
    {
     "data": {
      "text/plain": [
       "['humor', 'humour']"
      ]
     },
     "execution_count": 10,
     "metadata": {},
     "output_type": "execute_result"
    }
   ],
   "source": [
    "# Letter preceding ? is optional\n",
    "pattern = re.compile('humou?r$')\n",
    "[w for w in english_words if pattern.match(w)][:20]"
   ]
  },
  {
   "cell_type": "markdown",
   "metadata": {},
   "source": [
    "### One or more `+`"
   ]
  },
  {
   "cell_type": "code",
   "execution_count": 11,
   "metadata": {},
   "outputs": [
    {
     "data": {
      "text/plain": [
       "['col', 'cool']"
      ]
     },
     "execution_count": 11,
     "metadata": {},
     "output_type": "execute_result"
    }
   ],
   "source": [
    "# Letter preceding + can repeat as many times as needed\n",
    "pattern = re.compile('co+l$')\n",
    "[w for w in english_words if pattern.match(w)][:20]"
   ]
  },
  {
   "cell_type": "markdown",
   "metadata": {},
   "source": [
    "### Grouped choices `[]`"
   ]
  },
  {
   "cell_type": "code",
   "execution_count": 13,
   "metadata": {},
   "outputs": [
    {
     "data": {
      "text/plain": [
       "['analyse', 'analyze']"
      ]
     },
     "execution_count": 13,
     "metadata": {},
     "output_type": "execute_result"
    }
   ],
   "source": [
    "# Letters in [] are limits of a wildcard\n",
    "pattern = re.compile('analy[sz]e$')\n",
    "[w for w in english_words if pattern.match(w)][:20]"
   ]
  },
  {
   "cell_type": "code",
   "execution_count": 14,
   "metadata": {},
   "outputs": [
    {
     "data": {
      "text/plain": [
       "['pat',\n",
       " 'paut',\n",
       " 'peat',\n",
       " 'pet',\n",
       " 'piet',\n",
       " 'pit',\n",
       " 'poet',\n",
       " 'poot',\n",
       " 'pot',\n",
       " 'pout',\n",
       " 'put',\n",
       " 'pot',\n",
       " 'put']"
      ]
     },
     "execution_count": 14,
     "metadata": {},
     "output_type": "execute_result"
    }
   ],
   "source": [
    "# Can combine to get words that have only vowels between p and t\n",
    "pattern = re.compile('p[aeiou]+t$')\n",
    "[w for w in english_words if pattern.match(w)][:20]"
   ]
  }
 ],
 "metadata": {
  "kernelspec": {
   "display_name": ".venv",
   "language": "python",
   "name": "python3"
  },
  "language_info": {
   "codemirror_mode": {
    "name": "ipython",
    "version": 3
   },
   "file_extension": ".py",
   "mimetype": "text/x-python",
   "name": "python",
   "nbconvert_exporter": "python",
   "pygments_lexer": "ipython3",
   "version": "3.12.2"
  }
 },
 "nbformat": 4,
 "nbformat_minor": 2
}
