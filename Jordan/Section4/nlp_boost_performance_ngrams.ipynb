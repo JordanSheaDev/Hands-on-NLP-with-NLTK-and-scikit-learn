{
 "cells": [
  {
   "cell_type": "code",
   "execution_count": 1,
   "metadata": {},
   "outputs": [],
   "source": [
    "import collections\n",
    "import os\n",
    "import pprint\n",
    "import nltk\n",
    "from sklearn.datasets import load_files\n",
    "from sklearn.feature_extraction.text import CountVectorizer\n",
    "from sklearn.feature_extraction.text import TfidfTransformer\n",
    "from sklearn.model_selection import train_test_split\n",
    "from sklearn.linear_model import LogisticRegression"
   ]
  },
  {
   "cell_type": "code",
   "execution_count": null,
   "metadata": {},
   "outputs": [],
   "source": [
    "def extract_features(corpus):\n",
    "    '''Extract TF-IDF features from corpus'''\n",
    "    sa_stop_words = nltk.corpus.stopwords.words('english')\n",
    "    # words that might invert a sentence's meaning so don't remove\n",
    "    white_list = [\n",
    "        'what', 'but', 'if', 'because', 'as', 'until', 'against',\n",
    "        'up', 'down', 'in', 'out', 'on', 'off', 'over', 'under', 'again',\n",
    "        'further', 'then', 'once', 'here', 'there', 'why', 'how', 'all', 'any',\n",
    "        'most', 'other', 'some', 'such', 'no', 'nor', 'not', 'only', 'own',\n",
    "        'same', 'so', 'than', 'too', 'can', 'will', 'just', 'don', 'should']\n",
    "    stop_words = [sw for sw in sa_stop_words if sw not in white_list]"
   ]
  }
 ],
 "metadata": {
  "kernelspec": {
   "display_name": ".venv",
   "language": "python",
   "name": "python3"
  },
  "language_info": {
   "codemirror_mode": {
    "name": "ipython",
    "version": 3
   },
   "file_extension": ".py",
   "mimetype": "text/x-python",
   "name": "python",
   "nbconvert_exporter": "python",
   "pygments_lexer": "ipython3",
   "version": "3.12.2"
  }
 },
 "nbformat": 4,
 "nbformat_minor": 2
}
