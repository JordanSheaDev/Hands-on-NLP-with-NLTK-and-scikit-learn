{
 "cells": [
  {
   "cell_type": "code",
   "execution_count": 1,
   "metadata": {},
   "outputs": [],
   "source": [
    "import collections\n",
    "import os\n",
    "import nltk\n",
    "from sklearn.datasets import load_files\n",
    "from sklearn.feature_extraction.text import CountVectorizer\n",
    "from sklearn.feature_extraction.text import TfidfTransformer\n",
    "from sklearn.model_selection import train_test_split\n",
    "from sklearn.linear_model import LogisticRegression\n",
    "from sklearn import linear_model, naive_bayes, ensemble"
   ]
  },
  {
   "cell_type": "code",
   "execution_count": 2,
   "metadata": {},
   "outputs": [],
   "source": [
    "def extract_features(corpus):\n",
    "    '''Extract TF-IDF features from corpus'''\n",
    "    sa_stop_words = nltk.corpus.stopwords.words('english')\n",
    "    # words that might invert a sentence's meaning so don't remove\n",
    "    white_list = [\n",
    "        'what', 'but', 'if', 'because', 'as', 'until', 'against',\n",
    "        'up', 'down', 'in', 'out', 'on', 'off', 'over', 'under', 'again',\n",
    "        'further', 'then', 'once', 'here', 'there', 'why', 'how', 'all', 'any',\n",
    "        'most', 'other', 'some', 'such', 'no', 'nor', 'not', 'only', 'own',\n",
    "        'same', 'so', 'than', 'too', 'can', 'will', 'just', 'don', 'should']\n",
    "    stop_words = [sw for sw in sa_stop_words if sw not in white_list]\n",
    "    count_vectorizer = CountVectorizer(\n",
    "        tokenizer=nltk.word_tokenize,\n",
    "        stop_words=stop_words,\n",
    "        min_df=2, # The word must appear more than once\n",
    "        # The higher ngram range is, the higher the vector space and computing cost\n",
    "        ngram_range=(1, 2), # Allows for 1 and 2 word combinations\n",
    "    )\n",
    "    processed_corpus = count_vectorizer.fit_transform(corpus)\n",
    "    # Can change params of TfidfTransformer if it lowers performance\n",
    "    processed_corpus = TfidfTransformer().fit_transform(processed_corpus)\n",
    "    \n",
    "    return processed_corpus"
   ]
  },
  {
   "cell_type": "code",
   "execution_count": 3,
   "metadata": {},
   "outputs": [
    {
     "name": "stdout",
     "output_type": "stream",
     "text": [
      "2000 files loaded.\n",
      "They contain the following classes: ['neg', 'pos']\n"
     ]
    },
    {
     "name": "stderr",
     "output_type": "stream",
     "text": [
      "c:\\Users\\jsshe\\Documents\\learning\\oreilly\\Hands-on-NLP-with-NLTK-and-scikit-learn\\.venv\\Lib\\site-packages\\sklearn\\feature_extraction\\text.py:525: UserWarning: The parameter 'token_pattern' will not be used since 'tokenizer' is not None'\n",
      "  warnings.warn(\n",
      "c:\\Users\\jsshe\\Documents\\learning\\oreilly\\Hands-on-NLP-with-NLTK-and-scikit-learn\\.venv\\Lib\\site-packages\\sklearn\\feature_extraction\\text.py:408: UserWarning: Your stop_words may be inconsistent with your preprocessing. Tokenizing the stop words generated tokens [\"'d\", \"'ll\", \"'re\", \"'s\", \"'ve\", 'could', 'might', 'must', \"n't\", 'need', 'sha', 'should', 'wo', 'would'] not in stop_words.\n",
      "  warnings.warn(\n"
     ]
    }
   ],
   "source": [
    "data_directory = '../Section3/txt_sentoken/movie_reviews'\n",
    "\n",
    "movie_sentiment_data = load_files(data_directory, shuffle=True, random_state=42)\n",
    "print(f'{len(movie_sentiment_data.data)} files loaded.')\n",
    "print(f'They contain the following classes: {movie_sentiment_data.target_names}')\n",
    "\n",
    "# Create the tf-idf matrix\n",
    "movie_tfidf = extract_features(movie_sentiment_data.data)\n",
    "\n",
    "# Create the test train split\n",
    "X_train, X_test, y_train, y_test = train_test_split(\n",
    "    movie_tfidf, movie_sentiment_data.target, test_size=0.3, random_state=42)"
   ]
  },
  {
   "cell_type": "code",
   "execution_count": 4,
   "metadata": {},
   "outputs": [
    {
     "name": "stdout",
     "output_type": "stream",
     "text": [
      "Logistic Regression performance: 0.7983333333333333\n",
      "SGD Classifier performance: 0.8466666666666667\n",
      "Multinomial NB performance: 0.8083333333333333\n",
      "Bernoulli NB performance: 0.81\n"
     ]
    }
   ],
   "source": [
    "# Instansiate multiple classifiers\n",
    "\n",
    "clf1 = linear_model.LogisticRegression()\n",
    "clf1.fit(X_train, y_train)\n",
    "print(f'Logistic Regression performance: {clf1.score(X_test, y_test)}')\n",
    "\n",
    "clf2 = linear_model.SGDClassifier()\n",
    "clf2.fit(X_train, y_train)\n",
    "print(f'SGD Classifier performance: {clf2.score(X_test, y_test)}')\n",
    "\n",
    "clf3 = naive_bayes.MultinomialNB()\n",
    "clf3.fit(X_train, y_train)\n",
    "print(f'Multinomial NB performance: {clf3.score(X_test, y_test)}')\n",
    "\n",
    "clf4 = naive_bayes.BernoulliNB()\n",
    "clf4.fit(X_train, y_train)\n",
    "print(f'Bernoulli NB performance: {clf4.score(X_test, y_test)}')"
   ]
  },
  {
   "cell_type": "code",
   "execution_count": 5,
   "metadata": {},
   "outputs": [
    {
     "name": "stdout",
     "output_type": "stream",
     "text": [
      "Voting model performance: 0.8233333333333334\n"
     ]
    }
   ],
   "source": [
    "# Create a voting model\n",
    "voting_model = ensemble.VotingClassifier(\n",
    "    estimators=[('lr', linear_model.LogisticRegression()),\n",
    "                ('sgd', linear_model.SGDClassifier()),\n",
    "                ('mnb', naive_bayes.MultinomialNB()),\n",
    "                ('bnb', naive_bayes.BernoulliNB())],\n",
    "    # Hard is 1 vote per model, soft is votes based on confidence\n",
    "    voting='hard')\n",
    "voting_model.fit(X_train, y_train)\n",
    "print(f'Voting model performance: {voting_model.score(X_test, y_test)}')"
   ]
  },
  {
   "cell_type": "code",
   "execution_count": 7,
   "metadata": {},
   "outputs": [
    {
     "name": "stdout",
     "output_type": "stream",
     "text": [
      "Voting model2 performance: 0.81\n"
     ]
    }
   ],
   "source": [
    "# Create a voting model\n",
    "voting_model2 = ensemble.VotingClassifier(\n",
    "    estimators=[('lr', linear_model.LogisticRegression()),\n",
    "                # ('sgd', linear_model.SGDClassifier()),\n",
    "                ('mnb', naive_bayes.MultinomialNB()),\n",
    "                ('bnb', naive_bayes.BernoulliNB())],\n",
    "    # Hard is 1 vote per model, soft is votes based on confidence\n",
    "    voting='soft') # SGD has no confidence for soft voting\n",
    "voting_model2.fit(X_train, y_train)\n",
    "print(f'Voting model2 performance: {voting_model2.score(X_test, y_test)}')"
   ]
  }
 ],
 "metadata": {
  "kernelspec": {
   "display_name": ".venv",
   "language": "python",
   "name": "python3"
  },
  "language_info": {
   "codemirror_mode": {
    "name": "ipython",
    "version": 3
   },
   "file_extension": ".py",
   "mimetype": "text/x-python",
   "name": "python",
   "nbconvert_exporter": "python",
   "pygments_lexer": "ipython3",
   "version": "3.12.2"
  }
 },
 "nbformat": 4,
 "nbformat_minor": 2
}
