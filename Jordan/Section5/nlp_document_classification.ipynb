{
 "cells": [
  {
   "cell_type": "code",
   "execution_count": 3,
   "metadata": {},
   "outputs": [],
   "source": [
    "import itertools\n",
    "import numpy as np\n",
    "import nltk\n",
    "from sklearn import(\n",
    "    datasets, feature_extraction, model_selection, \n",
    "    pipeline, naive_bayes, metrics\n",
    ")\n",
    "import matplotlib.pyplot as plt"
   ]
  },
  {
   "cell_type": "code",
   "execution_count": null,
   "metadata": {},
   "outputs": [],
   "source": [
    "def extract_features(corpus):\n",
    "    '''Extract TF-IDF features from corpus'''\n",
    "    stop_words = nltk.corpus.stopwords.words('english')\n",
    "    count_vectorizer = feature_extraction.text.CountVectorizer(\n",
    "        tokenizer=nltk.word_tokenize,\n",
    "        stop_words=stop_words,\n",
    "        min_df=2, # The word must appear more than once\n",
    "        # The higher ngram range is, the higher the vector space and computing cost\n",
    "        ngram_range=(1, 2), # Allows for 1 and 2 word combinations\n",
    "    )\n",
    "    processed_corpus = count_vectorizer.fit_transform(corpus)\n",
    "    # Can change params of TfidfTransformer if it lowers performance\n",
    "    processed_corpus = feature_extraction.text.TfidfTransformer(\n",
    "        ).fit_transform(processed_corpus)\n",
    "    \n",
    "    return processed_corpus"
   ]
  }
 ],
 "metadata": {
  "kernelspec": {
   "display_name": ".venv",
   "language": "python",
   "name": "python3"
  },
  "language_info": {
   "codemirror_mode": {
    "name": "ipython",
    "version": 3
   },
   "file_extension": ".py",
   "mimetype": "text/x-python",
   "name": "python",
   "nbconvert_exporter": "python",
   "pygments_lexer": "ipython3",
   "version": "3.12.2"
  }
 },
 "nbformat": 4,
 "nbformat_minor": 2
}
