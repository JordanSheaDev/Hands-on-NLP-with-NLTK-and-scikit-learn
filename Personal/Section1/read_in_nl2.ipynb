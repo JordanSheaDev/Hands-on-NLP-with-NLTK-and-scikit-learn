{
 "cells": [
  {
   "cell_type": "code",
   "execution_count": 1,
   "metadata": {},
   "outputs": [],
   "source": [
    "from processing_text_functions import read_and_process\n",
    "from processing_text_functions import remove_uncommon_and_stop_words"
   ]
  },
  {
   "cell_type": "code",
   "execution_count": 2,
   "metadata": {},
   "outputs": [],
   "source": [
    "corpus = read_and_process('natural_lang_data.txt', split_lines=False)"
   ]
  },
  {
   "cell_type": "code",
   "execution_count": 3,
   "metadata": {},
   "outputs": [],
   "source": [
    "stop_words = {\n",
    "    'ourselves', 'hers', 'between', 'yourself', 'but', 'again',\n",
    "    'there', 'about', 'once', 'during', 'out', 'very', 'having', 'with',\n",
    "    'they', 'own', 'an', 'be', 'some', 'for', 'do', 'its', 'yours', 'such',\n",
    "    'into', 'of', 'most', 'itself', 'other', 'off', 'is', 's', 'am', 'or',\n",
    "    'who', 'as', 'from', 'him', 'each', 'the', 'themselves', 'until', 'below',\n",
    "    'are', 'we','these', 'your', 'his', 'through', 'don', 'nor', 'me', 'were',\n",
    "    'her', 'more', 'himself', 'this', 'down', 'should', 'our', 'their',\n",
    "    'while', 'above', 'both', 'up', 'to', 'ours', 'had', 'she', 'all', 'no',\n",
    "    'when', 'at', 'any','before', 'them', 'same', 'and', 'been', 'have', 'in',\n",
    "    'will', 'on', 'does', 'yourselves', 'then', 'that', 'because', 'what',\n",
    "    'over', 'why', 'so', 'can', 'did', 'not', 'now', 'under', 'he', 'you',\n",
    "    'herself', 'has', 'just', 'where', 'too', 'only', 'myself', 'which',\n",
    "    'those', 'i', 'after', 'few', 'whom', 't','being', 'if', 'theirs', 'my',\n",
    "    'against', 'a', 'by', 'doing', 'it', 'how','further', 'was', 'here', 'than'\n",
    "    }"
   ]
  },
  {
   "cell_type": "code",
   "execution_count": 4,
   "metadata": {},
   "outputs": [],
   "source": [
    "corpus = remove_uncommon_and_stop_words(corpus, 0.1, stop_words)"
   ]
  }
 ],
 "metadata": {
  "kernelspec": {
   "display_name": ".venv",
   "language": "python",
   "name": "python3"
  },
  "language_info": {
   "codemirror_mode": {
    "name": "ipython",
    "version": 3
   },
   "file_extension": ".py",
   "mimetype": "text/x-python",
   "name": "python",
   "nbconvert_exporter": "python",
   "pygments_lexer": "ipython3",
   "version": "3.12.2"
  }
 },
 "nbformat": 4,
 "nbformat_minor": 2
}
