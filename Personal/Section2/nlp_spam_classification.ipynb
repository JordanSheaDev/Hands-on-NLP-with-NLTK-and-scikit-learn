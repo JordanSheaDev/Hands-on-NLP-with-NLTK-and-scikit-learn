{
 "cells": [
  {
   "cell_type": "code",
   "execution_count": 1,
   "metadata": {},
   "outputs": [],
   "source": [
    "import nltk\n",
    "import os\n",
    "import random\n",
    "\n",
    "from collections import Counter"
   ]
  },
  {
   "cell_type": "code",
   "execution_count": 2,
   "metadata": {},
   "outputs": [
    {
     "name": "stderr",
     "output_type": "stream",
     "text": [
      "[nltk_data] Downloading package punkt to\n",
      "[nltk_data]     C:\\Users\\jsshe\\AppData\\Roaming\\nltk_data...\n",
      "[nltk_data]   Package punkt is already up-to-date!\n",
      "[nltk_data] Downloading package wordnet to\n",
      "[nltk_data]     C:\\Users\\jsshe\\AppData\\Roaming\\nltk_data...\n",
      "[nltk_data]   Package wordnet is already up-to-date!\n",
      "[nltk_data] Downloading package stopwords to\n",
      "[nltk_data]     C:\\Users\\jsshe\\AppData\\Roaming\\nltk_data...\n",
      "[nltk_data]   Package stopwords is already up-to-date!\n"
     ]
    },
    {
     "data": {
      "text/plain": [
       "True"
      ]
     },
     "execution_count": 2,
     "metadata": {},
     "output_type": "execute_result"
    }
   ],
   "source": [
    "# Update nltk\n",
    "nltk.download('punkt')\n",
    "nltk.download('wordnet')\n",
    "nltk.download('stopwords')"
   ]
  },
  {
   "cell_type": "code",
   "execution_count": 3,
   "metadata": {},
   "outputs": [],
   "source": [
    "# stop_words = {\n",
    "#     'ourselves', 'hers', 'between', 'yourself', 'but', 'again',\n",
    "#     'there', 'about', 'once', 'during', 'out', 'very', 'having', 'with',\n",
    "#     'they', 'own', 'an', 'be', 'some', 'for', 'do', 'its', 'yours', 'such',\n",
    "#     'into', 'of', 'most', 'itself', 'other', 'off', 'is', 's', 'am', 'or',\n",
    "#     'who', 'as', 'from', 'him', 'each', 'the', 'themselves', 'until', 'below',\n",
    "#     'are', 'we','these', 'your', 'his', 'through', 'don', 'nor', 'me', 'were',\n",
    "#     'her', 'more', 'himself', 'this', 'down', 'should', 'our', 'their',\n",
    "#     'while', 'above', 'both', 'up', 'to', 'ours', 'had', 'she', 'all', 'no',\n",
    "#     'when', 'at', 'any','before', 'them', 'same', 'and', 'been', 'have', 'in',\n",
    "#     'will', 'on', 'does', 'yourselves', 'then', 'that', 'because', 'what',\n",
    "#     'over', 'why', 'so', 'can', 'did', 'not', 'now', 'under', 'he', 'you',\n",
    "#     'herself', 'has', 'just', 'where', 'too', 'only', 'myself', 'which',\n",
    "#     'those', 'i', 'after', 'few', 'whom', 't','being', 'if', 'theirs', 'my',\n",
    "#     'against', 'a', 'by', 'doing', 'it', 'how','further', 'was', 'here', 'than'\n",
    "#     }"
   ]
  },
  {
   "cell_type": "code",
   "execution_count": 4,
   "metadata": {},
   "outputs": [],
   "source": [
    "stop_words = set(nltk.corpus.stopwords.words('english'))"
   ]
  },
  {
   "cell_type": "code",
   "execution_count": 5,
   "metadata": {},
   "outputs": [],
   "source": [
    "def load_files(directory: str) -> list[str]:\n",
    "    '''\n",
    "        Given a directory path of some text files,\n",
    "        will read in files and return them as a list\n",
    "    '''\n",
    "    result = []\n",
    "    for fname in os.listdir(directory):\n",
    "        # Some errors in decoding with utf-8,\n",
    "        # so these were stripped from the data\n",
    "        with open(directory + fname, 'r',\n",
    "                  encoding='utf-8', errors='ignore') as f:\n",
    "            result.append(f.read())\n",
    "    return result\n"
   ]
  },
  {
   "cell_type": "code",
   "execution_count": 6,
   "metadata": {},
   "outputs": [],
   "source": [
    "def preprocess_sentence(sentence: str,\n",
    "                        uncommon_amount: float = 0.1,\n",
    "                        stop_words: list[str] = set(\n",
    "                            nltk.corpus.stopwords.words('english')),\n",
    "                        ) -> list[str]:\n",
    "    '''\n",
    "        Processes a sentence to be used in NLP.\n",
    "        \n",
    "        Params:\n",
    "        sentence: A string to be tokenised\n",
    "        uncommon_amount: If 1 or above will be a number of words to\n",
    "            be removed. If below 1, then will be a proportion to be\n",
    "            removed.\n",
    "        stop_words: A list of common words without meaning to remove\n",
    "        \n",
    "        Returns a list of tokens\n",
    "    '''  \n",
    "    lemmatizer = nltk.WordNetLemmatizer()\n",
    "    # Pre-processing pipeline\n",
    "    processed_tokens = nltk.word_tokenize(sentence)\n",
    "    processed_tokens = [w.lower() for w in processed_tokens]\n",
    "    # Find least common elements and stopwords\n",
    "    # Find least common elements\n",
    "    word_counts = Counter(processed_tokens)\n",
    "    if uncommon_amount > 1:\n",
    "        uncommon_words = word_counts.most_common()[:-(uncommon_amount+1):-1]\n",
    "    else:\n",
    "        removal_amount = int(uncommon_amount*len(processed_tokens))\n",
    "        uncommon_words = word_counts.most_common()[:-(removal_amount+1):-1]\n",
    "    # Remove uncommon words and stop words\n",
    "    processed_tokens = [t for t in processed_tokens if t not in uncommon_words]\n",
    "    processed_tokens = [t for t in processed_tokens if t not in stop_words]\n",
    "    # Lemmatize the words\n",
    "    processed_tokens = [lemmatizer.lemmatize(t) for t in processed_tokens]\n",
    "    return processed_tokens"
   ]
  },
  {
   "cell_type": "code",
   "execution_count": 7,
   "metadata": {},
   "outputs": [],
   "source": [
    "# Load the examples\n",
    "positive_examples = []\n",
    "negative_examples =[]\n",
    "\n",
    "# For testing only run one root folder\n",
    "for parent in [os.listdir('enron')[0]]:\n",
    "# for parent in os.listdir('enron')[:-1]:\n",
    "    positive_examples.extend(load_files(f'enron/{parent}/spam/'))\n",
    "    negative_examples.extend(load_files(f'enron/{parent}/ham/'))\n",
    "\n",
    "# Process the examples\n",
    "positive_examples = [preprocess_sentence(email) for email in positive_examples]\n",
    "negative_examples = [preprocess_sentence(email) for email in negative_examples]\n",
    "\n",
    "# Label the examples\n",
    "positive_examples = [(email, 1) for email in positive_examples]\n",
    "negative_examples = [(email, 0) for email in negative_examples]\n",
    "\n",
    "# Join the eamples into a singular list and shuffle\n",
    "all_examples = positive_examples + negative_examples\n",
    "random.shuffle(all_examples)"
   ]
  },
  {
   "cell_type": "code",
   "execution_count": 8,
   "metadata": {},
   "outputs": [
    {
     "data": {
      "text/plain": [
       "5172"
      ]
     },
     "execution_count": 8,
     "metadata": {},
     "output_type": "execute_result"
    }
   ],
   "source": [
    "len(all_examples)"
   ]
  }
 ],
 "metadata": {
  "kernelspec": {
   "display_name": ".venv",
   "language": "python",
   "name": "python3"
  },
  "language_info": {
   "codemirror_mode": {
    "name": "ipython",
    "version": 3
   },
   "file_extension": ".py",
   "mimetype": "text/x-python",
   "name": "python",
   "nbconvert_exporter": "python",
   "pygments_lexer": "ipython3",
   "version": "3.12.2"
  }
 },
 "nbformat": 4,
 "nbformat_minor": 2
}
