{
 "cells": [
  {
   "cell_type": "code",
   "execution_count": 1,
   "metadata": {},
   "outputs": [],
   "source": [
    "import os\n",
    "import nltk\n",
    "\n",
    "from sklearn.model_selection import train_test_split\n",
    "\n",
    "from spam_classification_functions import SpamLoader"
   ]
  },
  {
   "cell_type": "code",
   "execution_count": 2,
   "metadata": {},
   "outputs": [],
   "source": [
    "# Instansiate SpamTrainer\n",
    "spam_loader = SpamLoader()"
   ]
  },
  {
   "cell_type": "code",
   "execution_count": 3,
   "metadata": {},
   "outputs": [
    {
     "name": "stdout",
     "output_type": "stream",
     "text": [
      "Successfully extracted 5172 files\n",
      "Successfully extracted 5857 files\n",
      "There are now 11029 files\n",
      "Successfully extracted 5512 files\n",
      "There are now 16541 files\n",
      "Successfully extracted 6000 files\n",
      "There are now 22541 files\n",
      "Successfully extracted 5175 files\n",
      "There are now 27716 files\n",
      "Successfully extracted 6000 files\n",
      "There are now 33716 files\n"
     ]
    }
   ],
   "source": [
    "# Load files\n",
    "for parent in os.listdir('enron')[:-1]:\n",
    "    spam_loader.load_and_process_files(spam_directory=f'enron/{parent}/spam/',\n",
    "                                        ham_directory=f'enron/{parent}/ham/')\n",
    "\n",
    "# Get features\n",
    "spam_loader.feature_extraction()\n",
    "\n",
    "# Split into train and test data\n",
    "test, train = train_test_split(spam_loader.features, test_size=0.3, random_state=42)"
   ]
  },
  {
   "cell_type": "code",
   "execution_count": 4,
   "metadata": {},
   "outputs": [
    {
     "name": "stdout",
     "output_type": "stream",
     "text": [
      "Model training complete. Accuracy on training set: 0.9952968094572264\n",
      "Model training complete. Accuracy on testing set: 0.9886307464162135\n"
     ]
    }
   ],
   "source": [
    "# Train and test model\n",
    "model = nltk.classify.NaiveBayesClassifier.train(test)\n",
    "training_error = nltk.classify.accuracy(model, test)\n",
    "print(f'Model training complete. Accuracy on training set: {training_error}')\n",
    "testing_error = nltk.classify.accuracy(model, train)\n",
    "print(f'Model training complete. Accuracy on testing set: {testing_error}')"
   ]
  }
 ],
 "metadata": {
  "kernelspec": {
   "display_name": ".venv",
   "language": "python",
   "name": "python3"
  },
  "language_info": {
   "codemirror_mode": {
    "name": "ipython",
    "version": 3
   },
   "file_extension": ".py",
   "mimetype": "text/x-python",
   "name": "python",
   "nbconvert_exporter": "python",
   "pygments_lexer": "ipython3",
   "version": "3.12.2"
  }
 },
 "nbformat": 4,
 "nbformat_minor": 2
}
