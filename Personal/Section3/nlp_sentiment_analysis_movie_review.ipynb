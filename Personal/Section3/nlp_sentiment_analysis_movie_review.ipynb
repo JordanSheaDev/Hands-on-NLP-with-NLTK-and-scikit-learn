{
 "cells": [
  {
   "cell_type": "code",
   "execution_count": 1,
   "metadata": {},
   "outputs": [],
   "source": [
    "import collections\n",
    "import nltk\n",
    "import os\n",
    "from sklearn.datasets import load_files\n",
    "from sklearn.feature_extraction.text import CountVectorizer\n",
    "from sklearn.feature_extraction.text import TfidfTransformer\n",
    "from sklearn import datasets\n",
    "from sklearn import model_selection\n",
    "from sklearn import feature_extraction\n",
    "from sklearn import linear_model"
   ]
  },
  {
   "cell_type": "code",
   "execution_count": 2,
   "metadata": {},
   "outputs": [],
   "source": [
    "def extract_features(corpus):\n",
    "    '''Extract TF-IDF features from corpus'''\n",
    "    count_vectorizer = CountVectorizer(\n",
    "        tokenizer=nltk.word_tokenize,\n",
    "        # Can use 'english' for sklearns stopwords\n",
    "        stop_words=nltk.corpus.stopwords.words('english'),\n",
    "        min_df=1, # The word must appear more than once\n",
    "    )\n",
    "    processed_corpus = count_vectorizer.fit_transform(corpus)\n",
    "    # Can change params of TfidfTransformer if it lowers performance\n",
    "    processed_corpus = TfidfTransformer().fit_transform(processed_corpus)\n",
    "    \n",
    "    return processed_corpus"
   ]
  },
  {
   "cell_type": "code",
   "execution_count": 3,
   "metadata": {},
   "outputs": [
    {
     "name": "stdout",
     "output_type": "stream",
     "text": [
      "2000 files loaded.\n",
      "They contain the following classes: ['neg', 'pos']\n"
     ]
    },
    {
     "name": "stderr",
     "output_type": "stream",
     "text": [
      "<>:1: SyntaxWarning: invalid escape sequence '\\m'\n",
      "<>:1: SyntaxWarning: invalid escape sequence '\\m'\n",
      "C:\\Users\\jsshe\\AppData\\Local\\Temp\\ipykernel_28752\\3925659349.py:1: SyntaxWarning: invalid escape sequence '\\m'\n",
      "  data_directory = 'txt_sentoken\\movie_reviews'\n"
     ]
    }
   ],
   "source": [
    "data_directory = 'txt_sentoken\\movie_reviews'\n",
    "\n",
    "movie_sentiment_data = load_files(data_directory, shuffle=True)\n",
    "print(f'{len(movie_sentiment_data.data)} files loaded.')\n",
    "print(f'They contain the following classes: {movie_sentiment_data.target_names}')"
   ]
  },
  {
   "cell_type": "code",
   "execution_count": 4,
   "metadata": {},
   "outputs": [
    {
     "name": "stderr",
     "output_type": "stream",
     "text": [
      "c:\\Users\\jsshe\\Documents\\learning\\oreilly\\Hands-on-NLP-with-NLTK-and-scikit-learn\\.venv\\Lib\\site-packages\\sklearn\\feature_extraction\\text.py:525: UserWarning: The parameter 'token_pattern' will not be used since 'tokenizer' is not None'\n",
      "  warnings.warn(\n",
      "c:\\Users\\jsshe\\Documents\\learning\\oreilly\\Hands-on-NLP-with-NLTK-and-scikit-learn\\.venv\\Lib\\site-packages\\sklearn\\feature_extraction\\text.py:408: UserWarning: Your stop_words may be inconsistent with your preprocessing. Tokenizing the stop words generated tokens [\"'d\", \"'ll\", \"'re\", \"'s\", \"'ve\", 'could', 'might', 'must', \"n't\", 'need', 'sha', 'wo', 'would'] not in stop_words.\n",
      "  warnings.warn(\n"
     ]
    }
   ],
   "source": [
    "movie_tfidf = extract_features(movie_sentiment_data.data)"
   ]
  }
 ],
 "metadata": {
  "kernelspec": {
   "display_name": ".venv",
   "language": "python",
   "name": "python3"
  },
  "language_info": {
   "codemirror_mode": {
    "name": "ipython",
    "version": 3
   },
   "file_extension": ".py",
   "mimetype": "text/x-python",
   "name": "python",
   "nbconvert_exporter": "python",
   "pygments_lexer": "ipython3",
   "version": "3.12.2"
  }
 },
 "nbformat": 4,
 "nbformat_minor": 2
}
